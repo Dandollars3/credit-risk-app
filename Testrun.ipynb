{
 "cells": [
  {
   "cell_type": "code",
   "execution_count": null,
   "id": "b2e52694-94fc-4fa3-a3a2-0c078cb9c6e9",
   "metadata": {},
   "outputs": [
    {
     "name": "stdout",
     "output_type": "stream",
     "text": [
      "Processing c:\\b\\abs_1bfn_ondsd\\croot\\aext-assistant_1746560154452\\work (from -r requirements.txt (line 2))\n"
     ]
    },
    {
     "name": "stderr",
     "output_type": "stream",
     "text": [
      "ERROR: Could not install packages due to an OSError: [Errno 2] No such file or directory: 'C:\\\\b\\\\abs_1bfn_ondsd\\\\croot\\\\aext-assistant_1746560154452\\\\work'\n",
      "\n"
     ]
    }
   ],
   "source": [
    "!pip install -r requirements.txt\n",
    "!python run.py"
   ]
  },
  {
   "cell_type": "code",
   "execution_count": 6,
   "id": "130a10c3-fea3-4290-a70c-7b0bbf41a872",
   "metadata": {},
   "outputs": [
    {
     "name": "stdout",
     "output_type": "stream",
     "text": [
      "Collecting Flask-SQLAlchemy\n",
      "  Downloading flask_sqlalchemy-3.1.1-py3-none-any.whl.metadata (3.4 kB)\n",
      "Requirement already satisfied: flask>=2.2.5 in c:\\programdata\\anaconda3\\lib\\site-packages (from Flask-SQLAlchemy) (3.0.3)\n",
      "Requirement already satisfied: sqlalchemy>=2.0.16 in c:\\programdata\\anaconda3\\lib\\site-packages (from Flask-SQLAlchemy) (2.0.34)\n",
      "Requirement already satisfied: Werkzeug>=3.0.0 in c:\\programdata\\anaconda3\\lib\\site-packages (from flask>=2.2.5->Flask-SQLAlchemy) (3.0.3)\n",
      "Requirement already satisfied: Jinja2>=3.1.2 in c:\\programdata\\anaconda3\\lib\\site-packages (from flask>=2.2.5->Flask-SQLAlchemy) (3.1.4)\n",
      "Requirement already satisfied: itsdangerous>=2.1.2 in c:\\programdata\\anaconda3\\lib\\site-packages (from flask>=2.2.5->Flask-SQLAlchemy) (2.2.0)\n",
      "Requirement already satisfied: click>=8.1.3 in c:\\programdata\\anaconda3\\lib\\site-packages (from flask>=2.2.5->Flask-SQLAlchemy) (8.1.7)\n",
      "Requirement already satisfied: blinker>=1.6.2 in c:\\programdata\\anaconda3\\lib\\site-packages (from flask>=2.2.5->Flask-SQLAlchemy) (1.6.2)\n",
      "Requirement already satisfied: typing-extensions>=4.6.0 in c:\\programdata\\anaconda3\\lib\\site-packages (from sqlalchemy>=2.0.16->Flask-SQLAlchemy) (4.11.0)\n",
      "Requirement already satisfied: greenlet!=0.4.17 in c:\\programdata\\anaconda3\\lib\\site-packages (from sqlalchemy>=2.0.16->Flask-SQLAlchemy) (3.0.1)\n",
      "Requirement already satisfied: colorama in c:\\programdata\\anaconda3\\lib\\site-packages (from click>=8.1.3->flask>=2.2.5->Flask-SQLAlchemy) (0.4.6)\n",
      "Requirement already satisfied: MarkupSafe>=2.0 in c:\\programdata\\anaconda3\\lib\\site-packages (from Jinja2>=3.1.2->flask>=2.2.5->Flask-SQLAlchemy) (2.1.3)\n",
      "Downloading flask_sqlalchemy-3.1.1-py3-none-any.whl (25 kB)\n",
      "Installing collected packages: Flask-SQLAlchemy\n",
      "Successfully installed Flask-SQLAlchemy-3.1.1\n"
     ]
    }
   ],
   "source": [
    "!pip install Flask-SQLAlchemy\n"
   ]
  },
  {
   "cell_type": "code",
   "execution_count": 7,
   "id": "0f12ca6c-d166-412f-ae6d-e76591603f92",
   "metadata": {},
   "outputs": [
    {
     "name": "stdout",
     "output_type": "stream",
     "text": [
      "✅ All required files are present!\n"
     ]
    }
   ],
   "source": [
    "import os\n",
    "\n",
    "required_files = [\n",
    "    'run.py',\n",
    "    'requirements.txt',\n",
    "    'random_forest_model.joblib',\n",
    "    'preprocessor.joblib',\n",
    "    'rf_model_config.json',\n",
    "    'rf_model_metrics.json',\n",
    "    'rf_feature_importance.csv',\n",
    "    'app/__init__.py',\n",
    "    'app/routes.py',\n",
    "    'app/models/user.py',\n",
    "    'app/utils/model_loader.py',\n",
    "    'app/templates/base.html',\n",
    "    'app/templates/main/dashboard.html',\n",
    "    'app/templates/main/predict.html',\n",
    "    'app/templates/main/results.html',\n",
    "    'app/templates/auth/login.html',\n",
    "    'app/templates/auth/register.html'\n",
    "]\n",
    "\n",
    "missing = [f for f in required_files if not os.path.exists(f)]\n",
    "if missing:\n",
    "    print(\"❌ Missing files:\")\n",
    "    for f in missing:\n",
    "        print(\"-\", f)\n",
    "else:\n",
    "    print(\"✅ All required files are present!\")\n"
   ]
  },
  {
   "cell_type": "code",
   "execution_count": 8,
   "id": "b4375c3e-2f7b-4ff0-8156-998b015ddc0c",
   "metadata": {},
   "outputs": [
    {
     "name": "stdout",
     "output_type": "stream",
     "text": [
      "Collecting pipreqs\n",
      "  Downloading pipreqs-0.5.0-py3-none-any.whl.metadata (7.9 kB)\n",
      "Collecting docopt==0.6.2 (from pipreqs)\n",
      "  Downloading docopt-0.6.2.tar.gz (25 kB)\n",
      "  Preparing metadata (setup.py): started\n",
      "  Preparing metadata (setup.py): finished with status 'done'\n",
      "Collecting ipython==8.12.3 (from pipreqs)\n",
      "  Downloading ipython-8.12.3-py3-none-any.whl.metadata (5.7 kB)\n",
      "Requirement already satisfied: nbconvert<8.0.0,>=7.11.0 in c:\\programdata\\anaconda3\\lib\\site-packages (from pipreqs) (7.16.4)\n",
      "Collecting yarg==0.1.9 (from pipreqs)\n",
      "  Downloading yarg-0.1.9-py2.py3-none-any.whl.metadata (4.6 kB)\n",
      "Collecting backcall (from ipython==8.12.3->pipreqs)\n",
      "  Downloading backcall-0.2.0-py2.py3-none-any.whl.metadata (2.0 kB)\n",
      "Requirement already satisfied: decorator in c:\\programdata\\anaconda3\\lib\\site-packages (from ipython==8.12.3->pipreqs) (5.1.1)\n",
      "Requirement already satisfied: jedi>=0.16 in c:\\programdata\\anaconda3\\lib\\site-packages (from ipython==8.12.3->pipreqs) (0.19.1)\n",
      "Requirement already satisfied: matplotlib-inline in c:\\programdata\\anaconda3\\lib\\site-packages (from ipython==8.12.3->pipreqs) (0.1.6)\n",
      "Requirement already satisfied: pickleshare in c:\\programdata\\anaconda3\\lib\\site-packages (from ipython==8.12.3->pipreqs) (0.7.5)\n",
      "Requirement already satisfied: prompt-toolkit!=3.0.37,<3.1.0,>=3.0.30 in c:\\programdata\\anaconda3\\lib\\site-packages (from ipython==8.12.3->pipreqs) (3.0.43)\n",
      "Requirement already satisfied: pygments>=2.4.0 in c:\\programdata\\anaconda3\\lib\\site-packages (from ipython==8.12.3->pipreqs) (2.15.1)\n",
      "Requirement already satisfied: stack-data in c:\\programdata\\anaconda3\\lib\\site-packages (from ipython==8.12.3->pipreqs) (0.2.0)\n",
      "Requirement already satisfied: traitlets>=5 in c:\\programdata\\anaconda3\\lib\\site-packages (from ipython==8.12.3->pipreqs) (5.14.3)\n",
      "Requirement already satisfied: colorama in c:\\programdata\\anaconda3\\lib\\site-packages (from ipython==8.12.3->pipreqs) (0.4.6)\n",
      "Requirement already satisfied: requests in c:\\programdata\\anaconda3\\lib\\site-packages (from yarg==0.1.9->pipreqs) (2.32.3)\n",
      "Requirement already satisfied: beautifulsoup4 in c:\\programdata\\anaconda3\\lib\\site-packages (from nbconvert<8.0.0,>=7.11.0->pipreqs) (4.12.3)\n",
      "Requirement already satisfied: bleach!=5.0.0 in c:\\programdata\\anaconda3\\lib\\site-packages (from nbconvert<8.0.0,>=7.11.0->pipreqs) (4.1.0)\n",
      "Requirement already satisfied: defusedxml in c:\\programdata\\anaconda3\\lib\\site-packages (from nbconvert<8.0.0,>=7.11.0->pipreqs) (0.7.1)\n",
      "Requirement already satisfied: jinja2>=3.0 in c:\\programdata\\anaconda3\\lib\\site-packages (from nbconvert<8.0.0,>=7.11.0->pipreqs) (3.1.4)\n",
      "Requirement already satisfied: jupyter-core>=4.7 in c:\\programdata\\anaconda3\\lib\\site-packages (from nbconvert<8.0.0,>=7.11.0->pipreqs) (5.7.2)\n",
      "Requirement already satisfied: jupyterlab-pygments in c:\\programdata\\anaconda3\\lib\\site-packages (from nbconvert<8.0.0,>=7.11.0->pipreqs) (0.1.2)\n",
      "Requirement already satisfied: markupsafe>=2.0 in c:\\programdata\\anaconda3\\lib\\site-packages (from nbconvert<8.0.0,>=7.11.0->pipreqs) (2.1.3)\n",
      "Requirement already satisfied: mistune<4,>=2.0.3 in c:\\programdata\\anaconda3\\lib\\site-packages (from nbconvert<8.0.0,>=7.11.0->pipreqs) (2.0.4)\n",
      "Requirement already satisfied: nbclient>=0.5.0 in c:\\programdata\\anaconda3\\lib\\site-packages (from nbconvert<8.0.0,>=7.11.0->pipreqs) (0.8.0)\n",
      "Requirement already satisfied: nbformat>=5.7 in c:\\programdata\\anaconda3\\lib\\site-packages (from nbconvert<8.0.0,>=7.11.0->pipreqs) (5.10.4)\n",
      "Requirement already satisfied: packaging in c:\\programdata\\anaconda3\\lib\\site-packages (from nbconvert<8.0.0,>=7.11.0->pipreqs) (24.1)\n",
      "Requirement already satisfied: pandocfilters>=1.4.1 in c:\\programdata\\anaconda3\\lib\\site-packages (from nbconvert<8.0.0,>=7.11.0->pipreqs) (1.5.0)\n",
      "Requirement already satisfied: tinycss2 in c:\\programdata\\anaconda3\\lib\\site-packages (from nbconvert<8.0.0,>=7.11.0->pipreqs) (1.2.1)\n",
      "Requirement already satisfied: six>=1.9.0 in c:\\programdata\\anaconda3\\lib\\site-packages (from bleach!=5.0.0->nbconvert<8.0.0,>=7.11.0->pipreqs) (1.16.0)\n",
      "Requirement already satisfied: webencodings in c:\\programdata\\anaconda3\\lib\\site-packages (from bleach!=5.0.0->nbconvert<8.0.0,>=7.11.0->pipreqs) (0.5.1)\n",
      "Requirement already satisfied: parso<0.9.0,>=0.8.3 in c:\\programdata\\anaconda3\\lib\\site-packages (from jedi>=0.16->ipython==8.12.3->pipreqs) (0.8.3)\n",
      "Requirement already satisfied: platformdirs>=2.5 in c:\\programdata\\anaconda3\\lib\\site-packages (from jupyter-core>=4.7->nbconvert<8.0.0,>=7.11.0->pipreqs) (3.10.0)\n",
      "Requirement already satisfied: pywin32>=300 in c:\\programdata\\anaconda3\\lib\\site-packages (from jupyter-core>=4.7->nbconvert<8.0.0,>=7.11.0->pipreqs) (305.1)\n",
      "Requirement already satisfied: jupyter-client>=6.1.12 in c:\\programdata\\anaconda3\\lib\\site-packages (from nbclient>=0.5.0->nbconvert<8.0.0,>=7.11.0->pipreqs) (8.6.0)\n",
      "Requirement already satisfied: fastjsonschema>=2.15 in c:\\programdata\\anaconda3\\lib\\site-packages (from nbformat>=5.7->nbconvert<8.0.0,>=7.11.0->pipreqs) (2.16.2)\n",
      "Requirement already satisfied: jsonschema>=2.6 in c:\\programdata\\anaconda3\\lib\\site-packages (from nbformat>=5.7->nbconvert<8.0.0,>=7.11.0->pipreqs) (4.23.0)\n",
      "Requirement already satisfied: wcwidth in c:\\programdata\\anaconda3\\lib\\site-packages (from prompt-toolkit!=3.0.37,<3.1.0,>=3.0.30->ipython==8.12.3->pipreqs) (0.2.5)\n",
      "Requirement already satisfied: soupsieve>1.2 in c:\\programdata\\anaconda3\\lib\\site-packages (from beautifulsoup4->nbconvert<8.0.0,>=7.11.0->pipreqs) (2.5)\n",
      "Requirement already satisfied: charset-normalizer<4,>=2 in c:\\programdata\\anaconda3\\lib\\site-packages (from requests->yarg==0.1.9->pipreqs) (3.3.2)\n",
      "Requirement already satisfied: idna<4,>=2.5 in c:\\programdata\\anaconda3\\lib\\site-packages (from requests->yarg==0.1.9->pipreqs) (3.7)\n",
      "Requirement already satisfied: urllib3<3,>=1.21.1 in c:\\programdata\\anaconda3\\lib\\site-packages (from requests->yarg==0.1.9->pipreqs) (2.2.3)\n",
      "Requirement already satisfied: certifi>=2017.4.17 in c:\\programdata\\anaconda3\\lib\\site-packages (from requests->yarg==0.1.9->pipreqs) (2025.6.15)\n",
      "Requirement already satisfied: executing in c:\\programdata\\anaconda3\\lib\\site-packages (from stack-data->ipython==8.12.3->pipreqs) (0.8.3)\n",
      "Requirement already satisfied: asttokens in c:\\programdata\\anaconda3\\lib\\site-packages (from stack-data->ipython==8.12.3->pipreqs) (2.0.5)\n",
      "Requirement already satisfied: pure-eval in c:\\programdata\\anaconda3\\lib\\site-packages (from stack-data->ipython==8.12.3->pipreqs) (0.2.2)\n",
      "Requirement already satisfied: attrs>=22.2.0 in c:\\programdata\\anaconda3\\lib\\site-packages (from jsonschema>=2.6->nbformat>=5.7->nbconvert<8.0.0,>=7.11.0->pipreqs) (24.3.0)\n",
      "Requirement already satisfied: jsonschema-specifications>=2023.03.6 in c:\\programdata\\anaconda3\\lib\\site-packages (from jsonschema>=2.6->nbformat>=5.7->nbconvert<8.0.0,>=7.11.0->pipreqs) (2023.7.1)\n",
      "Requirement already satisfied: referencing>=0.28.4 in c:\\programdata\\anaconda3\\lib\\site-packages (from jsonschema>=2.6->nbformat>=5.7->nbconvert<8.0.0,>=7.11.0->pipreqs) (0.30.2)\n",
      "Requirement already satisfied: rpds-py>=0.7.1 in c:\\programdata\\anaconda3\\lib\\site-packages (from jsonschema>=2.6->nbformat>=5.7->nbconvert<8.0.0,>=7.11.0->pipreqs) (0.10.6)\n",
      "Requirement already satisfied: python-dateutil>=2.8.2 in c:\\programdata\\anaconda3\\lib\\site-packages (from jupyter-client>=6.1.12->nbclient>=0.5.0->nbconvert<8.0.0,>=7.11.0->pipreqs) (2.9.0.post0)\n",
      "Requirement already satisfied: pyzmq>=23.0 in c:\\programdata\\anaconda3\\lib\\site-packages (from jupyter-client>=6.1.12->nbclient>=0.5.0->nbconvert<8.0.0,>=7.11.0->pipreqs) (25.1.2)\n",
      "Requirement already satisfied: tornado>=6.2 in c:\\programdata\\anaconda3\\lib\\site-packages (from jupyter-client>=6.1.12->nbclient>=0.5.0->nbconvert<8.0.0,>=7.11.0->pipreqs) (6.4.1)\n",
      "Downloading pipreqs-0.5.0-py3-none-any.whl (33 kB)\n",
      "Downloading ipython-8.12.3-py3-none-any.whl (798 kB)\n",
      "   ---------------------------------------- 0.0/798.3 kB ? eta -:--:--\n",
      "   ---------------------------------------- 0.0/798.3 kB ? eta -:--:--\n",
      "   ------------- -------------------------- 262.1/798.3 kB ? eta -:--:--\n",
      "   -------------------------- ------------- 524.3/798.3 kB 1.3 MB/s eta 0:00:01\n",
      "   ---------------------------------------- 798.3/798.3 kB 1.6 MB/s eta 0:00:00\n",
      "Downloading yarg-0.1.9-py2.py3-none-any.whl (19 kB)\n",
      "Downloading backcall-0.2.0-py2.py3-none-any.whl (11 kB)\n",
      "Building wheels for collected packages: docopt\n",
      "  Building wheel for docopt (setup.py): started\n",
      "  Building wheel for docopt (setup.py): finished with status 'done'\n",
      "  Created wheel for docopt: filename=docopt-0.6.2-py2.py3-none-any.whl size=13775 sha256=be2b5d2f1de52db857e588b73c5d52c0cb3f085c5da173cfa09d4470c7853444\n",
      "  Stored in directory: c:\\users\\ttc computers\\appdata\\local\\pip\\cache\\wheels\\1a\\bf\\a1\\4cee4f7678c68c5875ca89eaccf460593539805c3906722228\n",
      "Successfully built docopt\n",
      "Installing collected packages: docopt, backcall, yarg, ipython, pipreqs\n",
      "  Attempting uninstall: ipython\n",
      "    Found existing installation: ipython 8.27.0\n",
      "    Uninstalling ipython-8.27.0:\n",
      "      Successfully uninstalled ipython-8.27.0\n",
      "Successfully installed backcall-0.2.0 docopt-0.6.2 ipython-8.12.3 pipreqs-0.5.0 yarg-0.1.9\n"
     ]
    },
    {
     "name": "stderr",
     "output_type": "stream",
     "text": [
      "ERROR: pip's dependency resolver does not currently take into account all the packages that are installed. This behaviour is the source of the following dependency conflicts.\n",
      "spyder 5.5.1 requires ipython!=8.17.1,<9.0.0,>=8.13.0; python_version > \"3.8\", but you have ipython 8.12.3 which is incompatible.\n",
      "spyder-kernels 2.5.0 requires ipython!=8.17.1,<9,>=8.13.0; python_version > \"3.8\", but you have ipython 8.12.3 which is incompatible.\n"
     ]
    }
   ],
   "source": [
    "!pip install pipreqs"
   ]
  },
  {
   "cell_type": "code",
   "execution_count": 9,
   "id": "e7cea337-0fe5-45c4-82c7-3ed92ac4609c",
   "metadata": {},
   "outputs": [
    {
     "name": "stderr",
     "output_type": "stream",
     "text": [
      "INFO: Not scanning for jupyter notebooks.\n",
      "Traceback (most recent call last):\n",
      "  File \"<frozen runpy>\", line 198, in _run_module_as_main\n",
      "  File \"<frozen runpy>\", line 88, in _run_code\n",
      "  File \"C:\\ProgramData\\anaconda3\\Scripts\\pipreqs.exe\\__main__.py\", line 7, in <module>\n",
      "  File \"C:\\ProgramData\\anaconda3\\Lib\\site-packages\\pipreqs\\pipreqs.py\", line 609, in main\n",
      "    init(args)\n",
      "  File \"C:\\ProgramData\\anaconda3\\Lib\\site-packages\\pipreqs\\pipreqs.py\", line 599, in init\n",
      "    generate_requirements_file(path, imports, symbol)\n",
      "  File \"C:\\ProgramData\\anaconda3\\Lib\\site-packages\\pipreqs\\pipreqs.py\", line 209, in generate_requirements_file\n",
      "    with _open(path, \"w\") as out_file:\n",
      "         ^^^^^^^^^^^^^^^^\n",
      "  File \"C:\\ProgramData\\anaconda3\\Lib\\contextlib.py\", line 137, in __enter__\n",
      "    return next(self.gen)\n",
      "           ^^^^^^^^^^^^^^\n",
      "  File \"C:\\ProgramData\\anaconda3\\Lib\\site-packages\\pipreqs\\pipreqs.py\", line 91, in _open\n",
      "    file = open(filename, mode)\n",
      "           ^^^^^^^^^^^^^^^^^^^^\n",
      "FileNotFoundError: [Errno 2] No such file or directory: './credit-risk-app\\\\requirements.txt'\n"
     ]
    }
   ],
   "source": [
    "!pipreqs ./credit-risk-app --force"
   ]
  },
  {
   "cell_type": "code",
   "execution_count": 10,
   "id": "bf0e7bd3-ad90-46b0-be9e-3c3a4437d59b",
   "metadata": {},
   "outputs": [
    {
     "name": "stdout",
     "output_type": "stream",
     "text": [
      "Note: you may need to restart the kernel to use updated packages.\n"
     ]
    }
   ],
   "source": [
    "pip freeze > requirements.txt"
   ]
  },
  {
   "cell_type": "code",
   "execution_count": 11,
   "id": "8ff8694d-e1c2-4e3e-8058-efc96c0c6a8e",
   "metadata": {},
   "outputs": [
    {
     "name": "stderr",
     "output_type": "stream",
     "text": [
      "INFO: Not scanning for jupyter notebooks.\n",
      "Traceback (most recent call last):\n",
      "  File \"<frozen runpy>\", line 198, in _run_module_as_main\n",
      "  File \"<frozen runpy>\", line 88, in _run_code\n",
      "  File \"C:\\ProgramData\\anaconda3\\Scripts\\pipreqs.exe\\__main__.py\", line 7, in <module>\n",
      "  File \"C:\\ProgramData\\anaconda3\\Lib\\site-packages\\pipreqs\\pipreqs.py\", line 609, in main\n",
      "    init(args)\n",
      "  File \"C:\\ProgramData\\anaconda3\\Lib\\site-packages\\pipreqs\\pipreqs.py\", line 599, in init\n",
      "    generate_requirements_file(path, imports, symbol)\n",
      "  File \"C:\\ProgramData\\anaconda3\\Lib\\site-packages\\pipreqs\\pipreqs.py\", line 209, in generate_requirements_file\n",
      "    with _open(path, \"w\") as out_file:\n",
      "         ^^^^^^^^^^^^^^^^\n",
      "  File \"C:\\ProgramData\\anaconda3\\Lib\\contextlib.py\", line 137, in __enter__\n",
      "    return next(self.gen)\n",
      "           ^^^^^^^^^^^^^^\n",
      "  File \"C:\\ProgramData\\anaconda3\\Lib\\site-packages\\pipreqs\\pipreqs.py\", line 91, in _open\n",
      "    file = open(filename, mode)\n",
      "           ^^^^^^^^^^^^^^^^^^^^\n",
      "FileNotFoundError: [Errno 2] No such file or directory: './credit-risk-app\\\\requirements.txt'\n"
     ]
    }
   ],
   "source": [
    "!pipreqs ./credit-risk-app --force\n"
   ]
  },
  {
   "cell_type": "code",
   "execution_count": 12,
   "id": "395861cd-4a88-42d0-a4d5-98b5f6bf225f",
   "metadata": {},
   "outputs": [
    {
     "name": "stdout",
     "output_type": "stream",
     "text": [
      "Processing c:\\b\\abs_1bfn_ondsd\\croot\\aext-assistant_1746560154452\\work (from -r requirements.txt (line 2))\n"
     ]
    },
    {
     "name": "stderr",
     "output_type": "stream",
     "text": [
      "ERROR: Could not install packages due to an OSError: [Errno 2] No such file or directory: 'C:\\\\b\\\\abs_1bfn_ondsd\\\\croot\\\\aext-assistant_1746560154452\\\\work'\n",
      "\n",
      "Traceback (most recent call last):\n",
      "  File \"C:\\Users\\TTC COMPUTERS\\Documents\\AI_ML Training with DSA\\Capstone Project\\Daniel Salau\\credit-risk-app\\run.py\", line 2, in <module>\n",
      "    from app import create_app\n",
      "  File \"C:\\Users\\TTC COMPUTERS\\Documents\\AI_ML Training with DSA\\Capstone Project\\Daniel Salau\\credit-risk-app\\app\\__init__.py\", line 4, in <module>\n",
      "    from flask_login import LoginManager\n",
      "ModuleNotFoundError: No module named 'flask_login'\n"
     ]
    }
   ],
   "source": [
    "!pip install -r requirements.txt\n",
    "!python run.py"
   ]
  },
  {
   "cell_type": "code",
   "execution_count": 13,
   "id": "90d63599-3f1d-4761-8444-887bb0de69ec",
   "metadata": {},
   "outputs": [
    {
     "name": "stdout",
     "output_type": "stream",
     "text": [
      "Requirement already satisfied: Flask in c:\\programdata\\anaconda3\\lib\\site-packages (3.0.3)\n",
      "Collecting Flask-Login\n",
      "  Downloading Flask_Login-0.6.3-py3-none-any.whl.metadata (5.8 kB)\n",
      "Requirement already satisfied: Flask-SQLAlchemy in c:\\programdata\\anaconda3\\lib\\site-packages (3.1.1)\n",
      "Requirement already satisfied: scikit-learn in c:\\programdata\\anaconda3\\lib\\site-packages (1.5.1)\n",
      "Requirement already satisfied: pandas in c:\\programdata\\anaconda3\\lib\\site-packages (2.2.2)\n",
      "Requirement already satisfied: numpy in c:\\programdata\\anaconda3\\lib\\site-packages (1.26.4)\n",
      "Requirement already satisfied: joblib in c:\\programdata\\anaconda3\\lib\\site-packages (1.4.2)\n",
      "Requirement already satisfied: Werkzeug>=3.0.0 in c:\\programdata\\anaconda3\\lib\\site-packages (from Flask) (3.0.3)\n",
      "Requirement already satisfied: Jinja2>=3.1.2 in c:\\programdata\\anaconda3\\lib\\site-packages (from Flask) (3.1.4)\n",
      "Requirement already satisfied: itsdangerous>=2.1.2 in c:\\programdata\\anaconda3\\lib\\site-packages (from Flask) (2.2.0)\n",
      "Requirement already satisfied: click>=8.1.3 in c:\\programdata\\anaconda3\\lib\\site-packages (from Flask) (8.1.7)\n",
      "Requirement already satisfied: blinker>=1.6.2 in c:\\programdata\\anaconda3\\lib\\site-packages (from Flask) (1.6.2)\n",
      "Requirement already satisfied: sqlalchemy>=2.0.16 in c:\\programdata\\anaconda3\\lib\\site-packages (from Flask-SQLAlchemy) (2.0.34)\n",
      "Requirement already satisfied: scipy>=1.6.0 in c:\\programdata\\anaconda3\\lib\\site-packages (from scikit-learn) (1.13.1)\n",
      "Requirement already satisfied: threadpoolctl>=3.1.0 in c:\\programdata\\anaconda3\\lib\\site-packages (from scikit-learn) (3.5.0)\n",
      "Requirement already satisfied: python-dateutil>=2.8.2 in c:\\programdata\\anaconda3\\lib\\site-packages (from pandas) (2.9.0.post0)\n",
      "Requirement already satisfied: pytz>=2020.1 in c:\\programdata\\anaconda3\\lib\\site-packages (from pandas) (2024.1)\n",
      "Requirement already satisfied: tzdata>=2022.7 in c:\\programdata\\anaconda3\\lib\\site-packages (from pandas) (2023.3)\n",
      "Requirement already satisfied: colorama in c:\\programdata\\anaconda3\\lib\\site-packages (from click>=8.1.3->Flask) (0.4.6)\n",
      "Requirement already satisfied: MarkupSafe>=2.0 in c:\\programdata\\anaconda3\\lib\\site-packages (from Jinja2>=3.1.2->Flask) (2.1.3)\n",
      "Requirement already satisfied: six>=1.5 in c:\\programdata\\anaconda3\\lib\\site-packages (from python-dateutil>=2.8.2->pandas) (1.16.0)\n",
      "Requirement already satisfied: typing-extensions>=4.6.0 in c:\\programdata\\anaconda3\\lib\\site-packages (from sqlalchemy>=2.0.16->Flask-SQLAlchemy) (4.11.0)\n",
      "Requirement already satisfied: greenlet!=0.4.17 in c:\\programdata\\anaconda3\\lib\\site-packages (from sqlalchemy>=2.0.16->Flask-SQLAlchemy) (3.0.1)\n",
      "Downloading Flask_Login-0.6.3-py3-none-any.whl (17 kB)\n",
      "Installing collected packages: Flask-Login\n",
      "Successfully installed Flask-Login-0.6.3\n"
     ]
    }
   ],
   "source": [
    "!pip install Flask Flask-Login Flask-SQLAlchemy scikit-learn pandas numpy joblib\n"
   ]
  },
  {
   "cell_type": "code",
   "execution_count": null,
   "id": "dd762c7a-c7c9-4cd5-8951-e6de70695550",
   "metadata": {},
   "outputs": [],
   "source": [
    "import os\n",
    "os.remove(\"requirements.txt\")\n"
   ]
  },
  {
   "cell_type": "code",
   "execution_count": null,
   "id": "cf76d7a7-bbee-4827-a3d4-5280a3ab6bd5",
   "metadata": {},
   "outputs": [],
   "source": [
    "!pip freeze > requirements.txt\n"
   ]
  },
  {
   "cell_type": "code",
   "execution_count": null,
   "id": "6af6b584-c4aa-41a1-ae22-29dd3aeb2cc6",
   "metadata": {},
   "outputs": [],
   "source": [
    "!python run.py\n"
   ]
  },
  {
   "cell_type": "code",
   "execution_count": null,
   "id": "17e81b4d-c720-4f27-99b9-9f3979f0dae6",
   "metadata": {},
   "outputs": [],
   "source": [
    "!git init\n"
   ]
  },
  {
   "cell_type": "code",
   "execution_count": null,
   "id": "fd7d2e1e-71c4-4c2a-9c26-3c0a238bcb07",
   "metadata": {},
   "outputs": [],
   "source": [
    "!git add .\n"
   ]
  },
  {
   "cell_type": "code",
   "execution_count": null,
   "id": "0985612f-9b98-486e-8ca0-e28ac82a964b",
   "metadata": {},
   "outputs": [],
   "source": [
    "!git commit -m \"Ready for Render deployment\"\n",
    "!git remote add origin https://github.com/Dandollars3/credit-risk-app.git\n",
    "!git push -u origin main"
   ]
  },
  {
   "cell_type": "code",
   "execution_count": null,
   "id": "7ac503fa-3593-4efa-b774-5b703a94eda2",
   "metadata": {},
   "outputs": [],
   "source": [
    "!git status\n"
   ]
  },
  {
   "cell_type": "code",
   "execution_count": null,
   "id": "c00c10aa-2760-4701-ac1b-bf767c2ad3a0",
   "metadata": {},
   "outputs": [],
   "source": []
  }
 ],
 "metadata": {
  "kernelspec": {
   "display_name": "Python [conda env:base] *",
   "language": "python",
   "name": "conda-base-py"
  },
  "language_info": {
   "codemirror_mode": {
    "name": "ipython",
    "version": 3
   },
   "file_extension": ".py",
   "mimetype": "text/x-python",
   "name": "python",
   "nbconvert_exporter": "python",
   "pygments_lexer": "ipython3",
   "version": "3.12.7"
  }
 },
 "nbformat": 4,
 "nbformat_minor": 5
}
